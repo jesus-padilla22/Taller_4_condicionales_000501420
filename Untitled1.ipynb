{
  "nbformat": 4,
  "nbformat_minor": 0,
  "metadata": {
    "colab": {
      "provenance": [],
      "authorship_tag": "ABX9TyM2IKAVdK3P0AZj0KkNcpew",
      "include_colab_link": true
    },
    "kernelspec": {
      "name": "python3",
      "display_name": "Python 3"
    },
    "language_info": {
      "name": "python"
    }
  },
  "cells": [
    {
      "cell_type": "markdown",
      "metadata": {
        "id": "view-in-github",
        "colab_type": "text"
      },
      "source": [
        "<a href=\"https://colab.research.google.com/github/jesus-padilla22/Taller_4_condicionales_000501420/blob/main/Untitled1.ipynb\" target=\"_parent\"><img src=\"https://colab.research.google.com/assets/colab-badge.svg\" alt=\"Open In Colab\"/></a>"
      ]
    },
    {
      "cell_type": "markdown",
      "source": [
        "PROBLEMA 1"
      ],
      "metadata": {
        "id": "7VqqbYtsd_X-"
      }
    },
    {
      "cell_type": "code",
      "execution_count": null,
      "metadata": {
        "colab": {
          "base_uri": "https://localhost:8080/"
        },
        "id": "nsZP5dMbe748",
        "outputId": "812b2734-fcc8-4616-e099-6687d99abd9d"
      },
      "outputs": [
        {
          "output_type": "stream",
          "name": "stdout",
          "text": [
            "ingrese la nota 4.0\n",
            "aprobó la materia \n"
          ]
        }
      ],
      "source": [
        "## programa para ver si aprobó la materia\n",
        "calificacion = float(input(\"ingrese la nota \"))\n",
        "\n",
        "if calificacion > 3.0:\n",
        "\n",
        "  print(\"aprobó la materia \")\n",
        "else:\n",
        "\n",
        "  print(\"reprobó la materia \")\n",
        "\n",
        "\n"
      ]
    },
    {
      "cell_type": "markdown",
      "source": [
        "PROBLEMA 2"
      ],
      "metadata": {
        "id": "_kwa7Uzjhp52"
      }
    },
    {
      "cell_type": "code",
      "source": [
        "Numero = float(input(\"ingresa el numero\"))\n",
        "\n",
        "if  Numero > 0:\n",
        " print(\"positivo \")\n",
        "\n",
        "if Numero < 0:\n",
        " print(\"negativo\")\n",
        "if Numero == 0:\n",
        " print(\"0\")\n"
      ],
      "metadata": {
        "colab": {
          "base_uri": "https://localhost:8080/"
        },
        "id": "kzrtsc3Agp31",
        "outputId": "60bf8002-9a58-4994-f7e6-4ce7ce2bf381"
      },
      "execution_count": null,
      "outputs": [
        {
          "output_type": "stream",
          "name": "stdout",
          "text": [
            "ingresa el numero0\n",
            "0\n"
          ]
        }
      ]
    },
    {
      "cell_type": "markdown",
      "source": [
        "PROBLEMA 3"
      ],
      "metadata": {
        "id": "jZYGM_ZpkiM8"
      }
    },
    {
      "cell_type": "code",
      "source": [
        "contraseña = input(\"ingrese la contraseña\")\n",
        "if contraseña == \"contraseña123\":\n",
        "  print(\"contraseña correcta\")\n",
        "else:\n",
        "  print(\"contraseña incorrecta\")\n"
      ],
      "metadata": {
        "colab": {
          "base_uri": "https://localhost:8080/"
        },
        "id": "XNqcsYrQjh7S",
        "outputId": "b1431ca5-909e-4cb2-f4fb-0760cafa5343"
      },
      "execution_count": 1,
      "outputs": [
        {
          "output_type": "stream",
          "name": "stdout",
          "text": [
            "ingrese la contraseñacontraseña123\n",
            "contraseña correcta\n"
          ]
        }
      ]
    },
    {
      "cell_type": "markdown",
      "source": [
        "problema 4"
      ],
      "metadata": {
        "id": "zsmLWTLtwCD-"
      }
    },
    {
      "cell_type": "code",
      "source": [
        "numero = float(input(\"ingrese el numero\"))\n",
        "#verificar si el numero es par o inmpar\n",
        "if numero %2 == 0:\n",
        "\n",
        "    print(\"el numero es par\")\n",
        "else:\n",
        "  print(\"el numero es impar\")\n"
      ],
      "metadata": {
        "id": "sHnNRpjQlL7N",
        "colab": {
          "base_uri": "https://localhost:8080/"
        },
        "outputId": "383a9a7c-8d47-4cd3-c19f-c917713fb2ca"
      },
      "execution_count": 19,
      "outputs": [
        {
          "output_type": "stream",
          "name": "stdout",
          "text": [
            "ingrese el numero3\n",
            "el numero es impar\n"
          ]
        }
      ]
    },
    {
      "cell_type": "markdown",
      "source": [
        "PROBLEMA 5"
      ],
      "metadata": {
        "id": "rqypUh06hJCK"
      }
    },
    {
      "cell_type": "code",
      "source": [
        "num1 = int(input(\"Ingrese el primer número: \"))\n",
        "num2 = int(input(\"Ingrese el segundo número: \"))\n",
        "num3 = int(input(\"Ingrese el tercer número: \"))\n",
        "num4 = int(input(\"Ingrese el cuarto número: \"))\n",
        "num5 = int(input(\"Ingrese el quinto número: \"))\n",
        "\n",
        "mayor = num1\n",
        "\n",
        "if num2 > mayor:\n",
        "  mayor = num2\n",
        "elif num3 > mayor:\n",
        "  mayor = num3\n",
        "elif num4 > mayor:\n",
        "  mayor = num4\n",
        "else:\n",
        "  mayor = num5\n",
        "print(\"El número mayor es:\", mayor)"
      ],
      "metadata": {
        "colab": {
          "base_uri": "https://localhost:8080/"
        },
        "id": "bvneNYPre1F8",
        "outputId": "58a56a90-15af-49e6-ac85-bd9ad4653b17"
      },
      "execution_count": 33,
      "outputs": [
        {
          "output_type": "stream",
          "name": "stdout",
          "text": [
            "Ingrese el primer número: 78\n",
            "Ingrese el segundo número: 56\n",
            "Ingrese el tercer número: 43\n",
            "Ingrese el cuarto número: 12\n",
            "Ingrese el quinto número: 9\n",
            "El número mayor es: 9\n"
          ]
        }
      ]
    },
    {
      "cell_type": "markdown",
      "source": [
        "PROBLEMA 6"
      ],
      "metadata": {
        "id": "czpYNR7EiGs3"
      }
    },
    {
      "cell_type": "code",
      "source": [
        "edad = float(input(\"ingrese su edad\"))\n",
        "if edad >= 0 and edad <= 12:\n",
        "  print(\"niño\")\n",
        "if edad >= 13 and edad <= 19:\n",
        "   print(\"adolescente\")\n",
        "if edad >= 20 and edad <= 64:\n",
        "  print(\"adulto\")\n",
        "if edad >= 65:\n",
        "    print(\"adulto mayor\")\n"
      ],
      "metadata": {
        "id": "H_NasZkoiJYJ"
      },
      "execution_count": null,
      "outputs": []
    },
    {
      "cell_type": "code",
      "source": [],
      "metadata": {
        "id": "9lzmouIsj2vo"
      },
      "execution_count": null,
      "outputs": []
    }
  ]
}