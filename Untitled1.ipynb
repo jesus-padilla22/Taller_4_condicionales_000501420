{
  "nbformat": 4,
  "nbformat_minor": 0,
  "metadata": {
    "colab": {
      "provenance": [],
      "authorship_tag": "ABX9TyPb7m9lRRAPFnv09qqvY4aM",
      "include_colab_link": true
    },
    "kernelspec": {
      "name": "python3",
      "display_name": "Python 3"
    },
    "language_info": {
      "name": "python"
    }
  },
  "cells": [
    {
      "cell_type": "markdown",
      "metadata": {
        "id": "view-in-github",
        "colab_type": "text"
      },
      "source": [
        "<a href=\"https://colab.research.google.com/github/jesus-padilla22/Taller_4_condicionales_000501420/blob/main/Untitled1.ipynb\" target=\"_parent\"><img src=\"https://colab.research.google.com/assets/colab-badge.svg\" alt=\"Open In Colab\"/></a>"
      ]
    },
    {
      "cell_type": "markdown",
      "source": [
        "\n",
        "\n",
        "*   Elemento de lista\n",
        "*   Elemento de lista\n",
        "\n"
      ],
      "metadata": {
        "id": "_8wb3CfMfEz8"
      }
    },
    {
      "cell_type": "code",
      "source": [
        "PROBLEMA 1\n"
      ],
      "metadata": {
        "id": "1D5JnwDnfKcB"
      },
      "execution_count": null,
      "outputs": []
    },
    {
      "cell_type": "code",
      "execution_count": 8,
      "metadata": {
        "colab": {
          "base_uri": "https://localhost:8080/"
        },
        "id": "nsZP5dMbe748",
        "outputId": "812b2734-fcc8-4616-e099-6687d99abd9d"
      },
      "outputs": [
        {
          "output_type": "stream",
          "name": "stdout",
          "text": [
            "ingrese la nota 4.0\n",
            "aprobó la materia \n"
          ]
        }
      ],
      "source": [
        "## programa para ver si aprobó la materia\n",
        "calificacion = float(input(\"ingrese la nota \"))\n",
        "\n",
        "if calificacion > 3.0:\n",
        "\n",
        "  print(\"aprobó la materia \")\n",
        "else:\n",
        "\n",
        "  print(\"reprobó la materia \")\n",
        "\n",
        "\n"
      ]
    },
    {
      "cell_type": "markdown",
      "source": [
        "PROBLEMA 2"
      ],
      "metadata": {
        "id": "_kwa7Uzjhp52"
      }
    },
    {
      "cell_type": "code",
      "source": [
        "Numero = float(input(\"ingresa el numero\"))\n",
        "\n",
        "if  Numero > 0:\n",
        " print(\"positivo \")\n",
        "\n",
        "if Numero < 0:\n",
        " print(\"negativo\")\n",
        "if Numero == 0:\n",
        " print(\"0\")\n"
      ],
      "metadata": {
        "colab": {
          "base_uri": "https://localhost:8080/"
        },
        "id": "kzrtsc3Agp31",
        "outputId": "60bf8002-9a58-4994-f7e6-4ce7ce2bf381"
      },
      "execution_count": 54,
      "outputs": [
        {
          "output_type": "stream",
          "name": "stdout",
          "text": [
            "ingresa el numero0\n",
            "0\n"
          ]
        }
      ]
    },
    {
      "cell_type": "markdown",
      "source": [
        "PROBLEMA 3"
      ],
      "metadata": {
        "id": "jZYGM_ZpkiM8"
      }
    },
    {
      "cell_type": "code",
      "source": [
        "contraseña = input(\"ingrese la contraseña\")\n",
        "if contraseña == \"contraseña123\":\n",
        "  print(\"contraseña correcta\")\n",
        "else:\n",
        "  print(\"contraseña incorrecta\")\n"
      ],
      "metadata": {
        "colab": {
          "base_uri": "https://localhost:8080/"
        },
        "id": "XNqcsYrQjh7S",
        "outputId": "49aeb4f0-4c76-4a4b-8254-445b13a3a650"
      },
      "execution_count": 61,
      "outputs": [
        {
          "output_type": "stream",
          "name": "stdout",
          "text": [
            "ingrese la contraseñaggigsdagf\n",
            "contraseña incorrecta\n"
          ]
        }
      ]
    },
    {
      "cell_type": "markdown",
      "source": [
        "problema 4"
      ],
      "metadata": {
        "id": "zsmLWTLtwCD-"
      }
    },
    {
      "cell_type": "code",
      "source": [
        "numero = float(input(\"ingrese el numero\"))\n",
        "# verificar si el numero es par o inmpar\n"
      ],
      "metadata": {
        "id": "sHnNRpjQlL7N"
      },
      "execution_count": null,
      "outputs": []
    }
  ]
}